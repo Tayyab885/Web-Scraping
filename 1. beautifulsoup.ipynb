{
 "cells": [
  {
   "cell_type": "code",
   "execution_count": 1,
   "metadata": {},
   "outputs": [],
   "source": [
    "import requests\n",
    "from bs4 import BeautifulSoup"
   ]
  },
  {
   "cell_type": "code",
   "execution_count": null,
   "metadata": {},
   "outputs": [],
   "source": [
    "html_text = requests.get('https://www.timesjobs.com/candidate/job-search.html?searchType=personalizedSearch&from=submit&txtKeywords=python&txtLocation=').text\n",
    "print(html_text)"
   ]
  },
  {
   "cell_type": "code",
   "execution_count": null,
   "metadata": {},
   "outputs": [],
   "source": [
    "soup = BeautifulSoup(html_text,'lxml')"
   ]
  },
  {
   "cell_type": "code",
   "execution_count": null,
   "metadata": {},
   "outputs": [
    {
     "name": "stdout",
     "output_type": "stream",
     "text": [
      "<li class=\"clearfix job-bx wht-shd-bx\">\n",
      "<header class=\"clearfix\">\n",
      "<!--\n",
      "-->\n",
      "<!-- -->\n",
      "<h2>\n",
      "<a href=\"https://www.timesjobs.com/job-detail/python-pure-tech-codex-private-limited-pune-2-to-3-yrs-jobid-OHwfF0d6EhNzpSvf__PLUS__uAgZw==&amp;source=srp\" onclick=\"logViewUSBT('view','66840090','rest  ,  python  ,  database  ,  django  ,  debugging  ,  mongodb','Pune','2 - 3','IT Software : Software Products &amp; Services','1' )\" target=\"_blank\">\n",
      "<strong class=\"blkclor\">Python</strong></a> </h2>\n",
      "<h3 class=\"joblist-comp-name\">\n",
      "    Pure Tech Codex Private Limited\n",
      "    \n",
      "    </h3>\n",
      "</header>\n",
      "<ul class=\"top-jd-dtl clearfix\">\n",
      "<li><i class=\"material-icons\">card_travel</i>2 - 3 yrs</li>\n",
      "<li>\n",
      "<i class=\"material-icons\">location_on</i>\n",
      "<span title=\"Pune\">Pune</span>\n",
      "</li>\n",
      "</ul>\n",
      "<ul class=\"list-job-dtl clearfix\">\n",
      "<li>\n",
      "<label>Job Description:</label>\n",
      "Job Description: 2 to 3 Years experience in Python.Expert in Python ,  with knowledge of at least one Python web framework  Flask ,  Django etc.Expert in server programming.Go... <a href=\"https://www.timesjobs.com/job-detail/python-pure-tech-codex-private-limited-pune-2-to-3-yrs-jobid-OHwfF0d6EhNzpSvf__PLUS__uAgZw==&amp;source=srp\" target=\"_blank\">More Details</a>\n",
      "</li>\n",
      "<li>\n",
      "<label>KeySkills:</label>\n",
      "<span class=\"srp-skills\">\n",
      "      \n",
      "          rest  ,  <strong class=\"blkclor\">python</strong>  ,  database  ,  django  ,  debugging  ,  mongodb\n",
      "        \n",
      "      </span> </li>\n",
      "<!--\n",
      "            <li>\n",
      "              <i class=\"material-icons\">location_on</i>\n",
      "              Pune\n",
      "              </li>\n",
      "-->\n",
      "</ul>\n",
      "<div class=\"list-job-bt clearfix\">\n",
      "<div class=\"list-action\">\n",
      "<div class=\"applied-dtl clearfix\" id=\"showPostApplyData_66840090\">\n",
      "<a class=\"waves-effect waves-light btn\" href=\"javascript:callExtJobApply('66840090','adId=OHwfF0d6EhNzpSvf__PLUS__uAgZw==&amp;compName=Career Progress Consultants','TJPFSRP');\" onclick=\"trackClickEvent('View_AND_Apply_SRP','from_srp_externalJobs');logViewUSBT('apply','66840090','rest  ,  python  ,  database  ,  django  ,  debugging  ,  mongodb','Pune','2 - 3','IT Software : Software Products &amp; Services','1')\">Apply</a>\n",
      "<span class=\"jobs-status clearfix\">\n",
      "<!--\n",
      "       <i class=\"material-icons trnding-up\" title=\"Recently posted job, Recruiter is actively looking for candidates\">check_circle</i>\n",
      "        \n",
      "-->\n",
      "</span>\n",
      "<span class=\"sim-posted\">\n",
      "<span>Posted few days ago</span>\n",
      "</span>\n",
      "</div>\n",
      "</div>\n",
      "</div>\n",
      "</li>\n"
     ]
    }
   ],
   "source": [
    "job = soup.find('li',class_='clearfix job-bx wht-shd-bx')\n",
    "print(job)"
   ]
  },
  {
   "cell_type": "code",
   "execution_count": 28,
   "metadata": {},
   "outputs": [
    {
     "name": "stdout",
     "output_type": "stream",
     "text": [
      "\n",
      "PureTechCodexPrivateLimited\n",
      "\n",
      "\n"
     ]
    }
   ],
   "source": [
    "company_name = job.find('h3',class_='joblist-comp-name').text.replace(' ','')\n",
    "print(company_name)"
   ]
  },
  {
   "cell_type": "code",
   "execution_count": 37,
   "metadata": {},
   "outputs": [
    {
     "name": "stdout",
     "output_type": "stream",
     "text": [
      "\n",
      "\n",
      "rest,python,database,django,debugging,mongodb\n",
      "\n",
      "\n"
     ]
    }
   ],
   "source": [
    "skills = job.find('span',class_='srp-skills').text.replace(' ','')\n",
    "print(skills)"
   ]
  },
  {
   "cell_type": "code",
   "execution_count": 31,
   "metadata": {},
   "outputs": [
    {
     "name": "stdout",
     "output_type": "stream",
     "text": [
      "\n",
      "Company Name: \n",
      "PureTechCodexPrivateLimited\n",
      "\n",
      "\n",
      "Required Skills: \n",
      "\n",
      "rest,python,database,django,debugging,mongodb\n",
      "\n",
      "\n"
     ]
    }
   ],
   "source": [
    "print(f'''\n",
    "Company Name: {company_name}\n",
    "Required Skills: {skills}''')"
   ]
  },
  {
   "cell_type": "code",
   "execution_count": 34,
   "metadata": {},
   "outputs": [
    {
     "name": "stdout",
     "output_type": "stream",
     "text": [
      "Posted few days ago\n"
     ]
    }
   ],
   "source": [
    "jobs_today = job.find('span',class_='sim-posted').span.text\n",
    "print(jobs_today)"
   ]
  },
  {
   "cell_type": "markdown",
   "metadata": {},
   "source": [
    "That was to get info from one post"
   ]
  },
  {
   "cell_type": "markdown",
   "metadata": {},
   "source": [
    "Now From Post that are posted Today"
   ]
  },
  {
   "cell_type": "code",
   "execution_count": 38,
   "metadata": {},
   "outputs": [
    {
     "name": "stdout",
     "output_type": "stream",
     "text": [
      "<li class=\"clearfix job-bx wht-shd-bx\">\n",
      "<header class=\"clearfix\">\n",
      "<!--\n",
      "-->\n",
      "<!-- -->\n",
      "<h2>\n",
      "<a href=\"https://www.timesjobs.com/job-detail/python-pure-tech-codex-private-limited-pune-2-to-3-yrs-jobid-OHwfF0d6EhNzpSvf__PLUS__uAgZw==&amp;source=srp\" onclick=\"logViewUSBT('view','66840090','rest  ,  python  ,  database  ,  django  ,  debugging  ,  mongodb','Pune','2 - 3','IT Software : Software Products &amp; Services','1' )\" target=\"_blank\">\n",
      "<strong class=\"blkclor\">Python</strong></a> </h2>\n",
      "<h3 class=\"joblist-comp-name\">\n",
      "    Pure Tech Codex Private Limited\n",
      "    \n",
      "    </h3>\n",
      "</header>\n",
      "<ul class=\"top-jd-dtl clearfix\">\n",
      "<li><i class=\"material-icons\">card_travel</i>2 - 3 yrs</li>\n",
      "<li>\n",
      "<i class=\"material-icons\">location_on</i>\n",
      "<span title=\"Pune\">Pune</span>\n",
      "</li>\n",
      "</ul>\n",
      "<ul class=\"list-job-dtl clearfix\">\n",
      "<li>\n",
      "<label>Job Description:</label>\n",
      "Job Description: 2 to 3 Years experience in Python.Expert in Python ,  with knowledge of at least one Python web framework  Flask ,  Django etc.Expert in server programming.Go... <a href=\"https://www.timesjobs.com/job-detail/python-pure-tech-codex-private-limited-pune-2-to-3-yrs-jobid-OHwfF0d6EhNzpSvf__PLUS__uAgZw==&amp;source=srp\" target=\"_blank\">More Details</a>\n",
      "</li>\n",
      "<li>\n",
      "<label>KeySkills:</label>\n",
      "<span class=\"srp-skills\">\n",
      "      \n",
      "          rest  ,  <strong class=\"blkclor\">python</strong>  ,  database  ,  django  ,  debugging  ,  mongodb\n",
      "        \n",
      "      </span> </li>\n",
      "<!--\n",
      "            <li>\n",
      "              <i class=\"material-icons\">location_on</i>\n",
      "              Pune\n",
      "              </li>\n",
      "-->\n",
      "</ul>\n",
      "<div class=\"list-job-bt clearfix\">\n",
      "<div class=\"list-action\">\n",
      "<div class=\"applied-dtl clearfix\" id=\"showPostApplyData_66840090\">\n",
      "<a class=\"waves-effect waves-light btn\" href=\"javascript:callExtJobApply('66840090','adId=OHwfF0d6EhNzpSvf__PLUS__uAgZw==&amp;compName=Career Progress Consultants','TJPFSRP');\" onclick=\"trackClickEvent('View_AND_Apply_SRP','from_srp_externalJobs');logViewUSBT('apply','66840090','rest  ,  python  ,  database  ,  django  ,  debugging  ,  mongodb','Pune','2 - 3','IT Software : Software Products &amp; Services','1')\">Apply</a>\n",
      "<span class=\"jobs-status clearfix\">\n",
      "<!--\n",
      "       <i class=\"material-icons trnding-up\" title=\"Recently posted job, Recruiter is actively looking for candidates\">check_circle</i>\n",
      "        \n",
      "-->\n",
      "</span>\n",
      "<span class=\"sim-posted\">\n",
      "<span>Posted few days ago</span>\n",
      "</span>\n",
      "</div>\n",
      "</div>\n",
      "</div>\n",
      "</li>\n"
     ]
    }
   ],
   "source": [
    "jobs = soup.find_all('li',class_='clearfix job-bx wht-shd-bx')\n",
    "print(job)"
   ]
  },
  {
   "cell_type": "code",
   "execution_count": 46,
   "metadata": {},
   "outputs": [
    {
     "name": "stdout",
     "output_type": "stream",
     "text": [
      "Company Name: PureTechCodexPrivateLimited\n",
      "Skills: rest,python,database,django,debugging,mongodb\n",
      "More Info: https://www.timesjobs.com/job-detail/python-pure-tech-codex-private-limited-pune-2-to-3-yrs-jobid-OHwfF0d6EhNzpSvf__PLUS__uAgZw==&source=srp\n",
      "\n",
      "\n",
      "Company Name: SuryaInformaticsSolutionsPvt.Ltd.\n",
      "Skills: python,webtechnologies,linux,mobile,mysql,angularjs,javascript\n",
      "More Info: https://www.timesjobs.com/job-detail/python-surya-informatics-solutions-pvt-ltd-chennai-0-to-3-yrs-jobid-UVlLes58wutzpSvf__PLUS__uAgZw==&source=srp\n",
      "\n",
      "\n",
      "Company Name: IvanInfotechPvt.Ltd.\n",
      "Skills: rest,python,security,debugging\n",
      "More Info: https://www.timesjobs.com/job-detail/python-developer-ivan-infotech-pvt-ltd-kolkata-2-to-5-yrs-jobid-1h6sLaqbaBZzpSvf__PLUS__uAgZw==&source=srp\n",
      "\n",
      "\n",
      "Company Name: TandAHRSolutions\n",
      "Skills: python,git,django\n",
      "More Info: https://www.timesjobs.com/job-detail/python-developer-tanda-hr-solutions-gurgaon-chandigarh-4-to-6-yrs-jobid-2OM9xzKEDx5zpSvf__PLUS__uAgZw==&source=srp\n",
      "\n",
      "\n",
      "Company Name: JobsLoConsultants\n",
      "Skills: python,linux,windows,sql\n",
      "More Info: https://www.timesjobs.com/job-detail/python-developer-jobslo-consultants-indore-2-to-3-yrs-jobid-XP1detWpoa5zpSvf__PLUS__uAgZw==&source=srp\n",
      "\n",
      "\n",
      "Company Name: LAKSHHUMANRESOURCE\n",
      "Skills: rest,python,django,git\n",
      "More Info: https://www.timesjobs.com/job-detail/python-developer-laksh-human-resource-mumbai-1-to-3-yrs-jobid-Bo79FYBR7__SLASH__5zpSvf__PLUS__uAgZw==&source=srp\n",
      "\n",
      "\n",
      "Company Name: eastindiasecuritiesltd.\n",
      "Skills: python,hadoop,machinelearning\n",
      "More Info: https://www.timesjobs.com/job-detail/python-engineer-east-india-securities-ltd-kolkata-2-to-5-yrs-jobid-KEkE19WqPbFzpSvf__PLUS__uAgZw==&source=srp\n",
      "\n",
      "\n",
      "Company Name: TandAHRSolutions\n",
      "Skills: Python,Django,Flask\n",
      "More Info: https://www.timesjobs.com/job-detail/python-developer-tanda-hr-solutions-mohali-chandigarh-3-to-6-yrs-jobid-hyDozRehVidzpSvf__PLUS__uAgZw==&source=srp\n",
      "\n",
      "\n",
      "Company Name: systango\n",
      "Skills: python,django,javascript,webprogramming\n",
      "More Info: https://www.timesjobs.com/job-detail/python-developer-systango-indore-5-to-8-yrs-jobid-YtDomXdajg5zpSvf__PLUS__uAgZw==&source=srp\n",
      "\n",
      "\n",
      "Company Name: QuESTGlobalEngineeringPvtLtd\n",
      "Skills: algorithms,python,django,entrylevel\n",
      "More Info: https://www.timesjobs.com/job-detail/python-developer-quest-global-engineering-pvt-ltd-pune-4-to-7-yrs-jobid-EjmbE7oPFCNzpSvf__PLUS__uAgZw==&source=srp\n",
      "\n",
      "\n",
      "Company Name: APPLYCUPHIRINGSOLUTIONSLLP\n",
      "Skills: python,Django,ObjectRelationalMapper\n",
      "More Info: https://www.timesjobs.com/job-detail/python-developer-applycup-hiring-solutions-llp-surat-3-to-5-yrs-jobid-uj9JLhqjw6dzpSvf__PLUS__uAgZw==&source=srp\n",
      "\n",
      "\n",
      "Company Name: APPLYCUPHIRINGSOLUTIONSLLP\n",
      "Skills: python,django,html5,javascript\n",
      "More Info: https://www.timesjobs.com/job-detail/python-developer-applycup-hiring-solutions-llp-gurgaon-delhi-delhi-ncr-2-to-15-yrs-jobid-FHYQtX1BOyxzpSvf__PLUS__uAgZw==&source=srp\n",
      "\n",
      "\n",
      "Company Name: APPLYCUPHIRINGSOLUTIONSLLP\n",
      "Skills: python,django,html5,javascript\n",
      "More Info: https://www.timesjobs.com/job-detail/python-developer-applycup-hiring-solutions-llp-gandhinagar-2-to-4-yrs-jobid-t8Ti7DllljpzpSvf__PLUS__uAgZw==&source=srp\n",
      "\n",
      "\n",
      "Company Name: qualitythought\n",
      "Skills: rest,python,django,informationtechnology\n",
      "More Info: https://www.timesjobs.com/job-detail/python-django-quality-thought-hyderabad-secunderabad-2-to-5-yrs-jobid-A0WJWgCiZSRzpSvf__PLUS__uAgZw==&source=srp\n",
      "\n",
      "\n",
      "Company Name: DREAMAJAXTECHNOLOGIES\n",
      "Skills: python,django,api,sql,nosql\n",
      "More Info: https://www.timesjobs.com/job-detail/python-developer-dreamajax-technologies-bengaluru-bangalore-4-to-7-yrs-jobid-EWIVCDzRLKBzpSvf__PLUS__uAgZw==&source=srp\n",
      "\n",
      "\n",
      "Company Name: AnanthaCyberTechPvtLimited\n",
      "Skills: python,c,c,informationtechnology\n",
      "More Info: https://www.timesjobs.com/job-detail/python-developer-anantha-cyber-tech-pvt-limited-hyderabad-secunderabad-3-to-6-yrs-jobid-QF9wZ4AGuzlzpSvf__PLUS__uAgZw==&source=srp\n",
      "\n",
      "\n"
     ]
    }
   ],
   "source": [
    "for job in jobs:\n",
    "    jobs_today = job.find('span',class_='sim-posted').span.text\n",
    "    if 'few' in jobs_today:\n",
    "        company_name = job.find('h3',class_='joblist-comp-name').text.replace(' ','')\n",
    "        skills = job.find('span',class_='srp-skills').text.replace(' ','')\n",
    "        more_info = job.header.h2.a['href']\n",
    "        print(f\"Company Name: {company_name.strip()}\")\n",
    "        print(f\"Skills: {skills.strip()}\" )\n",
    "        print(f\"More Info: {more_info}\")\n",
    "        print('\\n')"
   ]
  },
  {
   "cell_type": "markdown",
   "metadata": {},
   "source": [
    "Filtering jobs on base of skill input from user"
   ]
  },
  {
   "cell_type": "code",
   "execution_count": 60,
   "metadata": {},
   "outputs": [
    {
     "name": "stdout",
     "output_type": "stream",
     "text": [
      "Enter some skill that you are not familiar with\n",
      "Filtering out ['linux']\n",
      "Company Name: PureTechCodexPrivateLimited\n",
      "Skills: rest,python,database,django,debugging,mongodb\n",
      "More Info: https://www.timesjobs.com/job-detail/python-pure-tech-codex-private-limited-pune-2-to-3-yrs-jobid-OHwfF0d6EhNzpSvf__PLUS__uAgZw==&source=srp\n",
      "\n",
      "\n",
      "Company Name: IvanInfotechPvt.Ltd.\n",
      "Skills: rest,python,security,debugging\n",
      "More Info: https://www.timesjobs.com/job-detail/python-developer-ivan-infotech-pvt-ltd-kolkata-2-to-5-yrs-jobid-1h6sLaqbaBZzpSvf__PLUS__uAgZw==&source=srp\n",
      "\n",
      "\n",
      "Company Name: TandAHRSolutions\n",
      "Skills: python,git,django\n",
      "More Info: https://www.timesjobs.com/job-detail/python-developer-tanda-hr-solutions-gurgaon-chandigarh-4-to-6-yrs-jobid-2OM9xzKEDx5zpSvf__PLUS__uAgZw==&source=srp\n",
      "\n",
      "\n",
      "Company Name: LAKSHHUMANRESOURCE\n",
      "Skills: rest,python,django,git\n",
      "More Info: https://www.timesjobs.com/job-detail/python-developer-laksh-human-resource-mumbai-1-to-3-yrs-jobid-Bo79FYBR7__SLASH__5zpSvf__PLUS__uAgZw==&source=srp\n",
      "\n",
      "\n",
      "Company Name: eastindiasecuritiesltd.\n",
      "Skills: python,hadoop,machinelearning\n",
      "More Info: https://www.timesjobs.com/job-detail/python-engineer-east-india-securities-ltd-kolkata-2-to-5-yrs-jobid-KEkE19WqPbFzpSvf__PLUS__uAgZw==&source=srp\n",
      "\n",
      "\n",
      "Company Name: TandAHRSolutions\n",
      "Skills: Python,Django,Flask\n",
      "More Info: https://www.timesjobs.com/job-detail/python-developer-tanda-hr-solutions-mohali-chandigarh-3-to-6-yrs-jobid-hyDozRehVidzpSvf__PLUS__uAgZw==&source=srp\n",
      "\n",
      "\n",
      "Company Name: systango\n",
      "Skills: python,django,javascript,webprogramming\n",
      "More Info: https://www.timesjobs.com/job-detail/python-developer-systango-indore-5-to-8-yrs-jobid-YtDomXdajg5zpSvf__PLUS__uAgZw==&source=srp\n",
      "\n",
      "\n",
      "Company Name: QuESTGlobalEngineeringPvtLtd\n",
      "Skills: algorithms,python,django,entrylevel\n",
      "More Info: https://www.timesjobs.com/job-detail/python-developer-quest-global-engineering-pvt-ltd-pune-4-to-7-yrs-jobid-EjmbE7oPFCNzpSvf__PLUS__uAgZw==&source=srp\n",
      "\n",
      "\n",
      "Company Name: APPLYCUPHIRINGSOLUTIONSLLP\n",
      "Skills: python,Django,ObjectRelationalMapper\n",
      "More Info: https://www.timesjobs.com/job-detail/python-developer-applycup-hiring-solutions-llp-surat-3-to-5-yrs-jobid-uj9JLhqjw6dzpSvf__PLUS__uAgZw==&source=srp\n",
      "\n",
      "\n",
      "Company Name: APPLYCUPHIRINGSOLUTIONSLLP\n",
      "Skills: python,django,html5,javascript\n",
      "More Info: https://www.timesjobs.com/job-detail/python-developer-applycup-hiring-solutions-llp-gurgaon-delhi-delhi-ncr-2-to-15-yrs-jobid-FHYQtX1BOyxzpSvf__PLUS__uAgZw==&source=srp\n",
      "\n",
      "\n",
      "Company Name: APPLYCUPHIRINGSOLUTIONSLLP\n",
      "Skills: python,django,html5,javascript\n",
      "More Info: https://www.timesjobs.com/job-detail/python-developer-applycup-hiring-solutions-llp-gandhinagar-2-to-4-yrs-jobid-t8Ti7DllljpzpSvf__PLUS__uAgZw==&source=srp\n",
      "\n",
      "\n",
      "Company Name: qualitythought\n",
      "Skills: rest,python,django,informationtechnology\n",
      "More Info: https://www.timesjobs.com/job-detail/python-django-quality-thought-hyderabad-secunderabad-2-to-5-yrs-jobid-A0WJWgCiZSRzpSvf__PLUS__uAgZw==&source=srp\n",
      "\n",
      "\n",
      "Company Name: DREAMAJAXTECHNOLOGIES\n",
      "Skills: python,django,api,sql,nosql\n",
      "More Info: https://www.timesjobs.com/job-detail/python-developer-dreamajax-technologies-bengaluru-bangalore-4-to-7-yrs-jobid-EWIVCDzRLKBzpSvf__PLUS__uAgZw==&source=srp\n",
      "\n",
      "\n",
      "Company Name: AnanthaCyberTechPvtLimited\n",
      "Skills: python,c,c,informationtechnology\n",
      "More Info: https://www.timesjobs.com/job-detail/python-developer-anantha-cyber-tech-pvt-limited-hyderabad-secunderabad-3-to-6-yrs-jobid-QF9wZ4AGuzlzpSvf__PLUS__uAgZw==&source=srp\n",
      "\n",
      "\n"
     ]
    }
   ],
   "source": [
    "print('Enter some skill that you are not familiar with')\n",
    "unfamiliar_skills = list(input('>').split(','))\n",
    "print(f'Filtering out {unfamiliar_skills}')\n",
    "\n",
    "for job in jobs:\n",
    "    jobs_today = job.find('span',class_='sim-posted').span.text\n",
    "    if 'few' in jobs_today:\n",
    "        company_name = job.find('h3',class_='joblist-comp-name').text.replace(' ','')\n",
    "        skills = job.find('span',class_='srp-skills').text.replace(' ','')\n",
    "        more_info = job.header.h2.a['href']\n",
    "        for unfam in unfamiliar_skills:\n",
    "            if unfam not in skills:\n",
    "                print(f\"Company Name: {company_name.strip()}\")\n",
    "                print(f\"Skills: {skills.strip()}\" )\n",
    "                print(f\"More Info: {more_info}\")\n",
    "                print('\\n')"
   ]
  },
  {
   "cell_type": "code",
   "execution_count": null,
   "metadata": {},
   "outputs": [],
   "source": []
  }
 ],
 "metadata": {
  "kernelspec": {
   "display_name": "Python 3 (ipykernel)",
   "language": "python",
   "name": "python3"
  },
  "language_info": {
   "codemirror_mode": {
    "name": "ipython",
    "version": 3
   },
   "file_extension": ".py",
   "mimetype": "text/x-python",
   "name": "python",
   "nbconvert_exporter": "python",
   "pygments_lexer": "ipython3",
   "version": "3.10.6"
  },
  "vscode": {
   "interpreter": {
    "hash": "50ec37400124822b743d9958387bd84c3b18e2b4ae8f27e25a430829e088db92"
   }
  }
 },
 "nbformat": 4,
 "nbformat_minor": 4
}
